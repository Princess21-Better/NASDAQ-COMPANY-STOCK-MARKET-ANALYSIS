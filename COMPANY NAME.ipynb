{
 "cells": [
  {
   "cell_type": "code",
   "execution_count": 1,
   "id": "3076faae-8eb9-4f85-89f6-47f80dd6fe2c",
   "metadata": {},
   "outputs": [],
   "source": [
    "import pandas as pd \n",
    "Name = pd.read_csv('Company.csv')"
   ]
  },
  {
   "cell_type": "code",
   "execution_count": 3,
   "id": "4abd8600-f78e-4f48-8181-ddfcd8d9c8b5",
   "metadata": {},
   "outputs": [
    {
     "data": {
      "text/html": [
       "<div>\n",
       "<style scoped>\n",
       "    .dataframe tbody tr th:only-of-type {\n",
       "        vertical-align: middle;\n",
       "    }\n",
       "\n",
       "    .dataframe tbody tr th {\n",
       "        vertical-align: top;\n",
       "    }\n",
       "\n",
       "    .dataframe thead th {\n",
       "        text-align: right;\n",
       "    }\n",
       "</style>\n",
       "<table border=\"1\" class=\"dataframe\">\n",
       "  <thead>\n",
       "    <tr style=\"text-align: right;\">\n",
       "      <th></th>\n",
       "      <th>ticker_symbol</th>\n",
       "      <th>company_name</th>\n",
       "    </tr>\n",
       "  </thead>\n",
       "  <tbody>\n",
       "    <tr>\n",
       "      <th>0</th>\n",
       "      <td>AAPL</td>\n",
       "      <td>apple</td>\n",
       "    </tr>\n",
       "    <tr>\n",
       "      <th>1</th>\n",
       "      <td>GOOG</td>\n",
       "      <td>Google Inc</td>\n",
       "    </tr>\n",
       "    <tr>\n",
       "      <th>2</th>\n",
       "      <td>GOOGL</td>\n",
       "      <td>Google Inc</td>\n",
       "    </tr>\n",
       "    <tr>\n",
       "      <th>3</th>\n",
       "      <td>AMZN</td>\n",
       "      <td>Amazon.com</td>\n",
       "    </tr>\n",
       "    <tr>\n",
       "      <th>4</th>\n",
       "      <td>TSLA</td>\n",
       "      <td>Tesla Inc</td>\n",
       "    </tr>\n",
       "    <tr>\n",
       "      <th>5</th>\n",
       "      <td>MSFT</td>\n",
       "      <td>Microsoft</td>\n",
       "    </tr>\n",
       "  </tbody>\n",
       "</table>\n",
       "</div>"
      ],
      "text/plain": [
       "  ticker_symbol company_name\n",
       "0          AAPL        apple\n",
       "1          GOOG   Google Inc\n",
       "2         GOOGL   Google Inc\n",
       "3          AMZN   Amazon.com\n",
       "4          TSLA    Tesla Inc\n",
       "5          MSFT    Microsoft"
      ]
     },
     "execution_count": 3,
     "metadata": {},
     "output_type": "execute_result"
    }
   ],
   "source": [
    "Name"
   ]
  },
  {
   "cell_type": "code",
   "execution_count": 5,
   "id": "935fdf03-94a3-425a-ae5f-9a4ca18d2f6c",
   "metadata": {},
   "outputs": [],
   "source": [
    "Name2 = Name.copy()"
   ]
  },
  {
   "cell_type": "code",
   "execution_count": 7,
   "id": "7704a3a2-7685-406d-afa5-5e9272d3dc7c",
   "metadata": {},
   "outputs": [
    {
     "data": {
      "text/plain": [
       "ticker_symbol    0\n",
       "company_name     0\n",
       "dtype: int64"
      ]
     },
     "execution_count": 7,
     "metadata": {},
     "output_type": "execute_result"
    }
   ],
   "source": [
    "Name.isnull().sum()"
   ]
  },
  {
   "cell_type": "code",
   "execution_count": 9,
   "id": "99ebc81c-4772-4781-947b-f8beef6a2809",
   "metadata": {},
   "outputs": [
    {
     "data": {
      "text/plain": [
       "0"
      ]
     },
     "execution_count": 9,
     "metadata": {},
     "output_type": "execute_result"
    }
   ],
   "source": [
    "Name.duplicated().sum()"
   ]
  },
  {
   "cell_type": "code",
   "execution_count": 11,
   "id": "4178f09f-9a91-434b-a0fa-99bb0129ed8c",
   "metadata": {},
   "outputs": [],
   "source": [
    "# the Copny Name Data set is very clean NO Duplicates, No NUll Values "
   ]
  },
  {
   "cell_type": "code",
   "execution_count": 19,
   "id": "48ff0c51-2e99-44af-97de-87233591e7df",
   "metadata": {},
   "outputs": [
    {
     "data": {
      "text/plain": [
       "ticker_symbol\n",
       "AAPL     1\n",
       "AMZN     1\n",
       "GOOG     1\n",
       "GOOGL    1\n",
       "MSFT     1\n",
       "TSLA     1\n",
       "Name: count, dtype: int64"
      ]
     },
     "execution_count": 19,
     "metadata": {},
     "output_type": "execute_result"
    }
   ],
   "source": [
    "Name.value_counts('ticker_symbol')"
   ]
  },
  {
   "cell_type": "code",
   "execution_count": null,
   "id": "e3c07761-dcd7-4c5d-b390-6eaae855c3d8",
   "metadata": {},
   "outputs": [],
   "source": []
  }
 ],
 "metadata": {
  "kernelspec": {
   "display_name": "Python [conda env:.ipynb_checkpoints]",
   "language": "python",
   "name": "conda-env-.ipynb_checkpoints-py"
  },
  "language_info": {
   "codemirror_mode": {
    "name": "ipython",
    "version": 3
   },
   "file_extension": ".py",
   "mimetype": "text/x-python",
   "name": "python",
   "nbconvert_exporter": "python",
   "pygments_lexer": "ipython3",
   "version": "3.12.7"
  }
 },
 "nbformat": 4,
 "nbformat_minor": 5
}
