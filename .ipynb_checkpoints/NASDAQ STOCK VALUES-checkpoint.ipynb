{
 "cells": [
  {
   "cell_type": "markdown",
   "id": "073bbc5b-90aa-4f52-a211-d09732430dfb",
   "metadata": {},
   "source": [
    "## Values of Top NASDAQ Companies from 2010 to 2020\n",
    "Context\n",
    "This dataset provides insights into the daily market share value changes of Amazon, Apple, Google, Microsoft, and Tesla from mid-2010 to mid-2020, making it valuable for those analyzing stock trends over time.\n",
    "\n",
    "\n",
    "Content\n",
    "This dataset contains daily OPEN, CLOSE, VOLUME, HIGH, and LOW values of Amazon, Apple, Google, Microsoft, and Tesla companies as tagged by dates.\n",
    "and we would be making a predictive Analysis leveraging on the previous stock market data.\n",
    "\n",
    "Acknowledgements\n",
    "Values are fetched from the official Kaggle website.\n"
   ]
  },
  {
   "cell_type": "code",
   "execution_count": null,
   "id": "88253d2b-e89e-478b-b99a-23b2bda93723",
   "metadata": {},
   "outputs": [],
   "source": []
  },
  {
   "cell_type": "code",
   "execution_count": null,
   "id": "a65beead-1b6f-4470-9e88-d3cb0eb5f2af",
   "metadata": {},
   "outputs": [],
   "source": []
  }
 ],
 "metadata": {
  "kernelspec": {
   "display_name": "Python [conda env:.ipynb_checkpoints]",
   "language": "python",
   "name": "conda-env-.ipynb_checkpoints-py"
  },
  "language_info": {
   "codemirror_mode": {
    "name": "ipython",
    "version": 3
   },
   "file_extension": ".py",
   "mimetype": "text/x-python",
   "name": "python",
   "nbconvert_exporter": "python",
   "pygments_lexer": "ipython3",
   "version": "3.12.7"
  }
 },
 "nbformat": 4,
 "nbformat_minor": 5
}
